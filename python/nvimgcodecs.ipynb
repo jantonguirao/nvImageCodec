{
 "cells": [
  {
   "cell_type": "code",
   "execution_count": null,
   "metadata": {},
   "outputs": [],
   "source": [
    "import os\n",
    "import cv2\n",
    "from matplotlib import pyplot as plt\n"
   ]
  },
  {
   "cell_type": "code",
   "execution_count": null,
   "metadata": {},
   "outputs": [],
   "source": [
    "os.chdir(\"c:\\\\Users\\\\smatysik\\\\projects\\\\nvimagecodec\\\\build\\\\example\\\\example_decode\\\\RelWithDebInfo\")\n",
    "#os.chdir(\"/mnt/c/Users/smatysik/projects/nvImageCodecsWSL2/build/example/example_decode\")\n"
   ]
  },
  {
   "cell_type": "markdown",
   "metadata": {},
   "source": [
    "# OpenCV"
   ]
  },
  {
   "cell_type": "markdown",
   "metadata": {},
   "source": [
    "Load small image with OpenCV"
   ]
  },
  {
   "cell_type": "code",
   "execution_count": null,
   "metadata": {},
   "outputs": [],
   "source": [
    "%%time \n",
    "cv_img_cat = cv2.imread(\"cat.j2k\")\n"
   ]
  },
  {
   "cell_type": "code",
   "execution_count": null,
   "metadata": {},
   "outputs": [],
   "source": [
    "cv_img_cat = cv2.cvtColor(cv_img_cat, cv2.COLOR_BGR2RGB)\n",
    "plt.imshow(cv_img_cat)"
   ]
  },
  {
   "cell_type": "markdown",
   "metadata": {},
   "source": [
    "Load 4k image with OpenCV"
   ]
  },
  {
   "cell_type": "code",
   "execution_count": null,
   "metadata": {},
   "outputs": [],
   "source": [
    "%%time \n",
    "#%%timeit -r 1 -n 10\n",
    "cv_img_4k = cv2.imread(\"4k_lossless.jp2\")\n"
   ]
  },
  {
   "cell_type": "code",
   "execution_count": null,
   "metadata": {},
   "outputs": [],
   "source": [
    "cv_img_4k = cv2.cvtColor(cv_img_4k, cv2.COLOR_BGR2RGB)\n",
    "plt.imshow(cv_img_4k)\n"
   ]
  },
  {
   "cell_type": "markdown",
   "metadata": {},
   "source": [
    "# nvImageCodecs"
   ]
  },
  {
   "cell_type": "code",
   "execution_count": null,
   "metadata": {},
   "outputs": [],
   "source": [
    "import nvimgcodecs"
   ]
  },
  {
   "cell_type": "markdown",
   "metadata": {},
   "source": [
    "Load small Jpeg2000 image with nvImageCodecs"
   ]
  },
  {
   "cell_type": "code",
   "execution_count": null,
   "metadata": {},
   "outputs": [],
   "source": [
    "%%time\n",
    "#%%timeit -r 5 -n 10\n",
    "nv_img_cat = nvimgcodecs.imread(\"cat.j2k\")\n"
   ]
  },
  {
   "cell_type": "markdown",
   "metadata": {},
   "source": [
    "Load 4k Jpeg2000 (in jp2 container) image with nvImageCodecs"
   ]
  },
  {
   "cell_type": "code",
   "execution_count": null,
   "metadata": {},
   "outputs": [],
   "source": [
    "%%time\n",
    "#%%timeit -r 5 -n 10\n",
    "nv_img4k = nvimgcodecs.imread(\"4k_lossless.jp2\")"
   ]
  },
  {
   "cell_type": "markdown",
   "metadata": {},
   "source": [
    "Save 4k image to bmp file with nvImageCodecs"
   ]
  },
  {
   "cell_type": "code",
   "execution_count": 10,
   "metadata": {},
   "outputs": [],
   "source": [
    "%%time\n",
    "#%%timeit -r 1 -n 10\n",
    "nvimgcodecs.imwrite(\"4k_lossless-jp2-o.bmp\", nv_img4k)\n",
    "nvimgcodecs.imwrite(\"4k_lossless-jp2-o.jpg\", nv_img4k)\n"
   ]
  },
  {
   "cell_type": "markdown",
   "metadata": {},
   "source": [
    "Read back with OpenCV just save (with nvImageCodecs) bmp image "
   ]
  },
  {
   "cell_type": "code",
   "execution_count": null,
   "metadata": {},
   "outputs": [],
   "source": [
    "cv_img_4k_bmp = cv2.imread(\"4k_lossless.bmp\")\n"
   ]
  },
  {
   "cell_type": "code",
   "execution_count": null,
   "metadata": {},
   "outputs": [],
   "source": [
    "cv_img_4k_bmp = cv2.cvtColor(cv_img_4k_bmp, cv2.COLOR_BGR2RGB)\n",
    "plt.imshow(cv_img_4k_bmp)\n"
   ]
  },
  {
   "cell_type": "code",
   "execution_count": null,
   "metadata": {},
   "outputs": [],
   "source": []
  },
  {
   "cell_type": "markdown",
   "metadata": {},
   "source": [
    "Save as Jpeg 2000"
   ]
  },
  {
   "cell_type": "code",
   "execution_count": null,
   "metadata": {},
   "outputs": [],
   "source": [
    "%%time\n",
    "# %%timeit -r 1 -n 10\n",
    "nvimgcodecs.imwrite(\"new_4k_lossless.j2k\", nv_img4k)\n"
   ]
  },
  {
   "cell_type": "markdown",
   "metadata": {},
   "source": [
    "## nvImageCodes Image  __cuda_array_interface__ support"
   ]
  },
  {
   "cell_type": "code",
   "execution_count": null,
   "metadata": {},
   "outputs": [],
   "source": [
    "print(nv_img4k.__cuda_array_interface__)\n",
    "print(nv_img4k.shape)\n"
   ]
  },
  {
   "cell_type": "markdown",
   "metadata": {},
   "source": [
    "Lets test it with cupy"
   ]
  },
  {
   "cell_type": "code",
   "execution_count": null,
   "metadata": {},
   "outputs": [],
   "source": [
    "\n",
    "import cupy as cp"
   ]
  },
  {
   "cell_type": "markdown",
   "metadata": {},
   "source": [
    "Convert to Numpy (CPU) array"
   ]
  },
  {
   "cell_type": "code",
   "execution_count": null,
   "metadata": {},
   "outputs": [],
   "source": [
    "\n",
    "np_img4k = cp.asnumpy(nv_img4k)\n",
    "\n"
   ]
  },
  {
   "cell_type": "code",
   "execution_count": null,
   "metadata": {},
   "outputs": [],
   "source": [
    "plt.imshow(np_img4k)"
   ]
  },
  {
   "cell_type": "code",
   "execution_count": null,
   "metadata": {},
   "outputs": [],
   "source": [
    "%%time\n",
    "nv_img_jpg = nvimgcodecs.imread(\"cat_q95_444.jpg\")\n",
    "print(nv_img_jpg.__cuda_array_interface__)\n",
    "np_img4k = cp.asnumpy(nv_img_jpg)\n",
    "plt.imshow(np_img4k)\n"
   ]
  },
  {
   "cell_type": "markdown",
   "metadata": {},
   "source": [
    "Convert tp cupy ndarray"
   ]
  },
  {
   "cell_type": "code",
   "execution_count": null,
   "metadata": {},
   "outputs": [],
   "source": [
    "%%time\n",
    "cp_img4k = cp.asarray(nv_img4k)\n"
   ]
  },
  {
   "cell_type": "markdown",
   "metadata": {},
   "source": [
    "Lets do some opration on image in GPU using cupyx.scipy"
   ]
  },
  {
   "cell_type": "code",
   "execution_count": null,
   "metadata": {},
   "outputs": [],
   "source": [
    "import cupyx.scipy.ndimage\n"
   ]
  },
  {
   "cell_type": "code",
   "execution_count": null,
   "metadata": {},
   "outputs": [],
   "source": [
    "\n",
    "cp_img_4k_rotated = cupyx.scipy.ndimage.rotate(cp_img4k, 90)\n",
    "cp_img_4k_gaussian = cupyx.scipy.ndimage.gaussian_filter(cp_img4k, sigma = 15)\n",
    "cp_img_4k_laplace = cupyx.scipy.ndimage.laplace(cp_img4k)\n",
    "cp_img_4k_single_channel = cp_img4k[:, :, 1]\n",
    "\n",
    "print(cp_img_4k_rotated.__cuda_array_interface__)\n"
   ]
  },
  {
   "cell_type": "code",
   "execution_count": null,
   "metadata": {},
   "outputs": [],
   "source": [
    "np_img_4k = cp.asnumpy(cp_img_4k_rotated)\n",
    "plt.imshow(np_img_4k)\n"
   ]
  },
  {
   "cell_type": "code",
   "execution_count": null,
   "metadata": {},
   "outputs": [],
   "source": [
    "np_img_4k = cp.asnumpy(cp_img_4k_gaussian)\n",
    "plt.imshow(np_img_4k)\n"
   ]
  },
  {
   "cell_type": "markdown",
   "metadata": {},
   "source": [
    "Save rotated version which is in cupy ndarray format (GPU) to file using nvImageCodecs "
   ]
  },
  {
   "cell_type": "code",
   "execution_count": null,
   "metadata": {},
   "outputs": [],
   "source": [
    "nv_rotated_img = nvimgcodecs.asimage(cp_img_4k_rotated)\n"
   ]
  },
  {
   "cell_type": "code",
   "execution_count": null,
   "metadata": {},
   "outputs": [],
   "source": [
    "%%time\n",
    "nvimgcodecs.imwrite(\"rotated.bmp\", nv_rotated_img)\n"
   ]
  },
  {
   "cell_type": "markdown",
   "metadata": {},
   "source": [
    "Read and show saved rotaed image to verify"
   ]
  },
  {
   "cell_type": "code",
   "execution_count": null,
   "metadata": {},
   "outputs": [],
   "source": [
    "cv_img_4k_bmp = cv2.imread(\"rotated.bmp\")\n",
    "cv_img_4k_bmp = cv2.cvtColor(cv_img_4k_bmp, cv2.COLOR_BGR2RGB)\n",
    "plt.imshow(cv_img_4k_bmp)\n"
   ]
  },
  {
   "cell_type": "markdown",
   "metadata": {},
   "source": [
    "Save as JPEG2000"
   ]
  },
  {
   "cell_type": "markdown",
   "metadata": {},
   "source": [
    "nvJpeg2000 now supports only Planar RGB and cupy ndarray is in interleaved RGB order so we need to convert it before providing buffer to nvJpeg2000. In future nvJpeg2000 should probably support I_RGB."
   ]
  },
  {
   "cell_type": "code",
   "execution_count": null,
   "metadata": {},
   "outputs": [],
   "source": [
    "%%time\n",
    "cp_img_4k_rotated_planar = cp.moveaxis(cp_img_4k_rotated, (0, 1), (1, 0))\n",
    "cp_img_4k_rotated_planar = cp.asfortranarray(cp_img_4k_rotated_planar)\n",
    "cp_img_4k_rotated_planar = cp.moveaxis(cp_img_4k_rotated_planar, (0,1), (1,0))\n",
    "\n"
   ]
  },
  {
   "cell_type": "code",
   "execution_count": null,
   "metadata": {},
   "outputs": [],
   "source": [
    "%%time\n",
    "nv_rotated_img = nvimgcodecs.asimage(cp_img_4k_rotated_planar)\n"
   ]
  },
  {
   "cell_type": "code",
   "execution_count": null,
   "metadata": {},
   "outputs": [],
   "source": [
    "%%time\n",
    "nvimgcodecs.imwrite(\"rotated.j2k\", nv_rotated_img)\n"
   ]
  },
  {
   "cell_type": "markdown",
   "metadata": {},
   "source": [
    "Interoperability with cuCIM (only Linux)"
   ]
  },
  {
   "cell_type": "code",
   "execution_count": null,
   "metadata": {},
   "outputs": [],
   "source": [
    "from cucim.skimage.filters import gaussian\n"
   ]
  },
  {
   "cell_type": "code",
   "execution_count": null,
   "metadata": {},
   "outputs": [],
   "source": [
    "cp_img4k_blurred = gaussian(cp_img_4k_single_channel, sigma=5)\n",
    "cp_img4k_blurred_color = gaussian(nv_img4k, sigma=25)\n",
    "image = cp.asnumpy(cp_img4k_blurred)\n",
    "plt.imshow(image, cmap='gray')\n"
   ]
  },
  {
   "cell_type": "code",
   "execution_count": null,
   "metadata": {},
   "outputs": [],
   "source": [
    "from cucim.skimage.filters import threshold_otsu\n",
    "# determine threshold\n",
    "threshold = threshold_otsu(cp_img4k_blurred)\n",
    "\n",
    "# binarize image by apply the threshold\n",
    "cp_binary_gpu = cp_img4k_blurred > threshold\n",
    "\n",
    "image = cp.asnumpy(cp_binary_gpu)\n",
    "plt.imshow(image, cmap='gray')\n"
   ]
  },
  {
   "cell_type": "code",
   "execution_count": null,
   "metadata": {},
   "outputs": [],
   "source": [
    "from cucim.skimage.morphology import binary_erosion, disk\n",
    "\n",
    "eroded_gpu = binary_erosion(cp_binary_gpu, selem=disk(2))\n",
    "image = cp.asnumpy(eroded_gpu)\n",
    "plt.imshow(image, cmap='gray')\n"
   ]
  },
  {
   "cell_type": "code",
   "execution_count": null,
   "metadata": {},
   "outputs": [],
   "source": [
    "print(cp_img4k_blurred_color.__cuda_array_interface__)"
   ]
  },
  {
   "cell_type": "code",
   "execution_count": null,
   "metadata": {},
   "outputs": [],
   "source": [
    "%%time\n",
    "cp_img_planar = cp.moveaxis(cp_img4k_blurred_color, (0, 1), (1, 0))\n",
    "cp_img_planar = cp.asfortranarray(cp_img_planar)\n",
    "cp_img_planar = cp.moveaxis(cp_img_planar, (0, 1), (1, 0))\n",
    "nv_img = nvimgcodecs.asimage(cp_img_planar)\n"
   ]
  },
  {
   "cell_type": "code",
   "execution_count": null,
   "metadata": {},
   "outputs": [],
   "source": [
    "%%time\n",
    "nvimgcodecs.imwrite(\"blurred.j2k\", nv_img)\n"
   ]
  }
 ],
 "metadata": {
  "kernelspec": {
   "display_name": "Python 3.9.13 64-bit",
   "language": "python",
   "name": "python3"
  },
  "language_info": {
   "codemirror_mode": {
    "name": "ipython",
    "version": 3
   },
   "file_extension": ".py",
   "mimetype": "text/x-python",
   "name": "python",
   "nbconvert_exporter": "python",
   "pygments_lexer": "ipython3",
   "version": "3.9.13"
  },
  "orig_nbformat": 4,
  "vscode": {
   "interpreter": {
    "hash": "81794d4967e6c3204c66dcd87b604927b115b27c00565d3d43f05ba2f3a2cb0d"
   }
  }
 },
 "nbformat": 4,
 "nbformat_minor": 2
}
