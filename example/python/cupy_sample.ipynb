{
 "cells": [
  {
   "cell_type": "markdown",
   "metadata": {},
   "source": [
    "# nvImageCodecs with cuPy"
   ]
  },
  {
   "cell_type": "code",
   "execution_count": null,
   "metadata": {},
   "outputs": [],
   "source": [
    "import os\n",
    "import cv2\n",
    "import cupy as cp\n",
    "from matplotlib import pyplot as plt\n",
    "#os.chdir(\"c:\\\\Users\\\\smatysik\\\\projects\\\\nvimagecodecs\\\\build\\\\bin\\\\python\")\n",
    "os.chdir(\"/mnt/c/Users/smatysik/projects/nvimagecodecs/build/bin/python\")\n",
    "resources_dir = \"../../../resources\"\n",
    "import nvimgcodecs\n"
   ]
  },
  {
   "cell_type": "markdown",
   "metadata": {},
   "source": [
    "Load 4k, jpeg2000 image with nvImageCodecs"
   ]
  },
  {
   "cell_type": "code",
   "execution_count": null,
   "metadata": {},
   "outputs": [],
   "source": [
    "nv_img4k = nvimgcodecs.imread(\"{}/base/4k_lossless.jp2\".format(resources_dir))\n",
    "print(nv_img4k.__cuda_array_interface__)"
   ]
  },
  {
   "cell_type": "markdown",
   "metadata": {},
   "source": [
    "Pass nvImageCodecs Image to cupy"
   ]
  },
  {
   "cell_type": "code",
   "execution_count": null,
   "metadata": {},
   "outputs": [],
   "source": [
    "%%time\n",
    "cp_img4k = cp.asarray(nv_img4k)\n",
    "print(cp_img4k.__cuda_array_interface__)"
   ]
  },
  {
   "cell_type": "markdown",
   "metadata": {},
   "source": [
    "Convert CHW(c-style) = Planar -> HWC (c-style) = Interleave"
   ]
  },
  {
   "cell_type": "code",
   "execution_count": null,
   "metadata": {},
   "outputs": [],
   "source": [
    "cp_img4k = cp.moveaxis(cp_img4k, (0, 1, 2), (2, 0, 1))\n",
    "print(cp_img4k.__cuda_array_interface__)\n",
    "#Uncoment for packing\n",
    "# In Fortran the most rapidly changing index comes first\n",
    "#cp_img4k = cp.asfortranarray(cp_img4k)\n",
    "# print(cp_img4k.__cuda_array_interface__)\n",
    "#cp_img4k = cp.ascontiguousarray(cp_img4k)\n",
    "# print(cp_img4k.__cuda_array_interface__)\n"
   ]
  },
  {
   "cell_type": "code",
   "execution_count": null,
   "metadata": {},
   "outputs": [],
   "source": [
    "np_img4k = cp.asnumpy(cp_img4k)\n",
    "plt.imshow(np_img4k)\n"
   ]
  },
  {
   "cell_type": "markdown",
   "metadata": {},
   "source": [
    "Lets do some opration on image in GPU using cupyx.scipy"
   ]
  },
  {
   "cell_type": "code",
   "execution_count": null,
   "metadata": {},
   "outputs": [],
   "source": [
    "import cupyx.scipy.ndimage"
   ]
  },
  {
   "cell_type": "code",
   "execution_count": null,
   "metadata": {},
   "outputs": [],
   "source": [
    "cp_img_4k_rotated = cupyx.scipy.ndimage.rotate(cp_img4k, 90)\n",
    "cp_img_4k_gaussian = cupyx.scipy.ndimage.gaussian_filter(cp_img4k, sigma = 15)\n",
    "cp_img_4k_laplace = cupyx.scipy.ndimage.laplace(cp_img4k)\n",
    "\n",
    "print(cp_img_4k_rotated.__cuda_array_interface__)"
   ]
  },
  {
   "cell_type": "code",
   "execution_count": null,
   "metadata": {},
   "outputs": [],
   "source": [
    "np_img_4k = cp.asnumpy(cp_img_4k_rotated)\n",
    "plt.imshow(np_img_4k)"
   ]
  },
  {
   "cell_type": "code",
   "execution_count": null,
   "metadata": {},
   "outputs": [],
   "source": [
    "np_img_4k = cp.asnumpy(cp_img_4k_gaussian)\n",
    "plt.imshow(np_img_4k)\n"
   ]
  },
  {
   "cell_type": "markdown",
   "metadata": {},
   "source": [
    "Save as JPEG2000"
   ]
  },
  {
   "cell_type": "markdown",
   "metadata": {},
   "source": [
    "nvJpeg2000 now supports only Planar RGB and cupy ndarray is in interleaved RGB format so we need to convert it before providing buffer to nvJpeg2000. In future nvJpeg2000 should probably support I_RGB."
   ]
  },
  {
   "cell_type": "code",
   "execution_count": null,
   "metadata": {},
   "outputs": [],
   "source": [
    "# HWC (C-style = row-major) = interleaved -> CHW (C-style) = planar\n",
    "print(cp_img_4k_rotated.__cuda_array_interface__)\n",
    "\n",
    "cp_img_4k_rotated_planar = cp.moveaxis(cp_img_4k_rotated, (0, 1, 2), (1, 0, 2))\n",
    "print(cp_img_4k_rotated_planar.__cuda_array_interface__)\n",
    "\n",
    "cp_img_4k_rotated_planar = cp.asfortranarray(cp_img_4k_rotated_planar)\n",
    "print(cp_img_4k_rotated_planar.__cuda_array_interface__)\n",
    "\n",
    "\n",
    "cp_img_4k_rotated_planar = cp.moveaxis(cp_img_4k_rotated_planar, (0, 1, 2), (2, 1, 0))\n",
    "print(cp_img_4k_rotated_planar.__cuda_array_interface__)\n"
   ]
  },
  {
   "cell_type": "code",
   "execution_count": null,
   "metadata": {},
   "outputs": [],
   "source": [
    "%%time\n",
    "nv_rotated_img = nvimgcodecs.asimage(cp_img_4k_rotated_planar)\n"
   ]
  },
  {
   "cell_type": "code",
   "execution_count": null,
   "metadata": {},
   "outputs": [],
   "source": [
    "%%time\n",
    "nvimgcodecs.imwrite(\"rotated.j2k\", nv_rotated_img)\n"
   ]
  },
  {
   "cell_type": "markdown",
   "metadata": {},
   "source": [
    "Load with OpenCv to verify"
   ]
  },
  {
   "cell_type": "code",
   "execution_count": null,
   "metadata": {},
   "outputs": [],
   "source": [
    "image = cv2.imread(\"rotated.j2k\")\n",
    "image = cv2.cvtColor(image, cv2.COLOR_BGR2RGB)\n",
    "plt.imshow(image)"
   ]
  },
  {
   "cell_type": "markdown",
   "metadata": {},
   "source": [
    "Save cupy image to jpg with nvImageCodecs"
   ]
  },
  {
   "cell_type": "code",
   "execution_count": null,
   "metadata": {},
   "outputs": [],
   "source": [
    "%%time\n",
    "nvimgcodecs.imwrite(\"rotated.jpg\", nv_rotated_img)\n"
   ]
  },
  {
   "cell_type": "code",
   "execution_count": null,
   "metadata": {},
   "outputs": [],
   "source": [
    "image = cv2.imread(\"rotated.jpg\")\n",
    "image = cv2.cvtColor(image, cv2.COLOR_BGR2RGB)\n",
    "plt.imshow(image)"
   ]
  }
 ],
 "metadata": {
  "kernelspec": {
   "display_name": "Python 3.8.10 64-bit",
   "language": "python",
   "name": "python3"
  },
  "language_info": {
   "codemirror_mode": {
    "name": "ipython",
    "version": 3
   },
   "file_extension": ".py",
   "mimetype": "text/x-python",
   "name": "python",
   "nbconvert_exporter": "python",
   "pygments_lexer": "ipython3",
   "version": "3.8.10 (default, Jun 22 2022, 20:18:18) \n[GCC 9.4.0]"
  },
  "orig_nbformat": 4,
  "vscode": {
   "interpreter": {
    "hash": "916dbcbb3f70747c44a77c7bcd40155683ae19c65e1c03b4aa3499c5328201f1"
   }
  }
 },
 "nbformat": 4,
 "nbformat_minor": 2
}
