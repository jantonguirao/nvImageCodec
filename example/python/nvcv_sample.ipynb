{
 "cells": [
  {
   "cell_type": "code",
   "execution_count": null,
   "metadata": {},
   "outputs": [],
   "source": [
    "\n",
    "import os\n",
    "from matplotlib import pyplot as plt\n",
    "import torch\n",
    "import cupy as cp\n"
   ]
  },
  {
   "cell_type": "code",
   "execution_count": null,
   "metadata": {},
   "outputs": [],
   "source": [
    "os.chdir(\"/mnt/c/Users/smatysik/projects/nvImageCodecsWSL2/build/example/example_decode\")\n",
    "import nvimgcodecs\n",
    "import nvcv\n",
    "\n"
   ]
  },
  {
   "cell_type": "code",
   "execution_count": null,
   "metadata": {},
   "outputs": [],
   "source": [
    "nv_img_cat = nvimgcodecs.imread(\"cat.j2k\")"
   ]
  },
  {
   "cell_type": "code",
   "execution_count": null,
   "metadata": {},
   "outputs": [],
   "source": [
    "print(nv_img_cat.__cuda_array_interface__)\n",
    "nvcvInputTensor = nvcv.as_tensor(nv_img_cat, \"CHW\")\n",
    "print(nvcvInputTensor.cuda().__cuda_array_interface__)\n",
    "\n",
    "# The Reformat operator can be used to convert CHW format to NHWC\n",
    "# for the rest of the preprocessing operations\n",
    "nvcvInterleavedTensor = nvcvInputTensor.reformat(\"NHWC\")\n",
    "print(nvcvInterleavedTensor.cuda().__cuda_array_interface__)\n",
    "\n",
    "nvcvResizeTensor = nvcvInterleavedTensor#.resize((1, 320, 240, 3), nvcv.Interp.CUBIC)\n",
    "print(nvcvResizeTensor.cuda().__cuda_array_interface__)\n",
    "nvcvResizeTensorCHW = nvcvResizeTensor.reformat(\"CHW\")\n",
    "print(nvcvResizeTensorCHW.cuda().__cuda_array_interface__)\n",
    "#tr_img = torch.as_tensor(nvcvInputTensor.cuda(), device=\"cuda\")\n",
    "ca = nvcvResizeTensorCHW.cuda().__cuda_array_interface__\n",
    "#ca = {'shape':tuple(ca['shape']), 'strides':tuple(ca['strides']), 'typestr':ca['typestr'],'data':ca['data'], 'version':2}\n",
    "ca = {'shape':tuple(ca['shape']), 'strides':tuple(ca['strides']), 'typestr':'=B','data':ca['data'], 'version':2}\n",
    "\n",
    "cp_img = cp.asarray(ca)\n",
    "# cp_img = cp.asarray(nvcvResizeTensorHWC.cuda())  -> TypeError: Expected tuple, got list\n",
    "#tr_img = torch.as_tensor(nvcvResizeTensorCHW.cuda(), device=\"cuda\")\n",
    "#print(tr_img.cuda().__cuda_array_interface__)\n",
    "\n",
    "#cp_img = cp.asarray(tr_img.cuda())\n",
    "# CHW(c-style)  =Planar -> HWC (c-style) =Interleave\n",
    "print(cp_img.__cuda_array_interface__)\n",
    "cp_img = cp.moveaxis(cp_img, (2, 1, 0), (1, 0, 2))\n",
    "cp_img = cp.asfortranarray(cp_img) # In Fortran the most rapidly changing index comes first\n",
    "cp_img = cp.ascontiguousarray(cp_img)\n",
    "print(cp_img.__cuda_array_interface__)\n",
    "\n",
    "image = cp.asnumpy(cp_img)\n",
    "plt.imshow(image)\n"
   ]
  }
 ],
 "metadata": {
  "kernelspec": {
   "display_name": "Python 3.9.13 64-bit",
   "language": "python",
   "name": "python3"
  },
  "language_info": {
   "codemirror_mode": {
    "name": "ipython",
    "version": 3
   },
   "file_extension": ".py",
   "mimetype": "text/x-python",
   "name": "python",
   "nbconvert_exporter": "python",
   "pygments_lexer": "ipython3",
   "version": "3.9.13"
  },
  "orig_nbformat": 4,
  "vscode": {
   "interpreter": {
    "hash": "81794d4967e6c3204c66dcd87b604927b115b27c00565d3d43f05ba2f3a2cb0d"
   }
  }
 },
 "nbformat": 4,
 "nbformat_minor": 2
}
