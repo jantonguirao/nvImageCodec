{
 "cells": [
  {
   "attachments": {},
   "cell_type": "markdown",
   "metadata": {},
   "source": [
    "# nvImageCodecs batch processing examples"
   ]
  },
  {
   "cell_type": "code",
   "execution_count": null,
   "metadata": {},
   "outputs": [],
   "source": [
    "import os\n",
    "import os.path\n",
    "from matplotlib import pyplot as plt\n",
    "from nvidia import nvimgcodecs\n",
    "resources_dir = \"../../resources\"\n"
   ]
  },
  {
   "attachments": {},
   "cell_type": "markdown",
   "metadata": {},
   "source": [
    "Load images"
   ]
  },
  {
   "cell_type": "code",
   "execution_count": null,
   "metadata": {},
   "outputs": [],
   "source": [
    "image_paths = [\"/base/4k_lossless.jp2\", \"/base/cat_q95_444.jpg\",\n",
    "               \"/bmp/cat-111793_640.bmp\"]\n",
    "batch_size = len(image_paths)\n",
    "\n",
    "data_list = []\n",
    "for p in image_paths:\n",
    "    with open(resources_dir + p, 'rb') as in_file:\n",
    "        data = in_file.read()\n",
    "        data_list.append(data)"
   ]
  },
  {
   "attachments": {},
   "cell_type": "markdown",
   "metadata": {},
   "source": [
    "Create decoder"
   ]
  },
  {
   "cell_type": "code",
   "execution_count": null,
   "metadata": {},
   "outputs": [],
   "source": [
    "dec = nvimgcodecs.Decoder()"
   ]
  },
  {
   "attachments": {},
   "cell_type": "markdown",
   "metadata": {},
   "source": [
    "Decode"
   ]
  },
  {
   "cell_type": "code",
   "execution_count": null,
   "metadata": {},
   "outputs": [],
   "source": [
    "image_list = dec.decode(data_list)"
   ]
  },
  {
   "attachments": {},
   "cell_type": "markdown",
   "metadata": {},
   "source": [
    "Show decoded images"
   ]
  },
  {
   "cell_type": "code",
   "execution_count": null,
   "metadata": {},
   "outputs": [],
   "source": [
    "import cupy as cp\n",
    "\n",
    "for img in image_list:\n",
    "    print(img.__cuda_array_interface__)\n",
    "    cp_img = cp.asarray(img)\n",
    "    np_img = cp.asnumpy(cp_img)\n",
    "    plt.figure()\n",
    "    plt.imshow(np_img)\n"
   ]
  },
  {
   "cell_type": "code",
   "execution_count": null,
   "metadata": {},
   "outputs": [],
   "source": [
    "enc = nvimgcodecs.Encoder()"
   ]
  },
  {
   "cell_type": "code",
   "execution_count": null,
   "metadata": {},
   "outputs": [],
   "source": [
    "encoded_imgs = enc.encode(\".jpg\", image_list)"
   ]
  },
  {
   "cell_type": "code",
   "execution_count": null,
   "metadata": {},
   "outputs": [],
   "source": [
    "i = 0\n",
    "for enc_img in encoded_imgs:\n",
    "    out_file_name = os.path.splitext(os.path.basename(image_paths[i]))[0]+ \"_out.jpg\"\n",
    "    with open(out_file_name, \"wb\") as out_file:\n",
    "        out_file.write(enc_img)\n",
    "    i+=1"
   ]
  },
  {
   "attachments": {},
   "cell_type": "markdown",
   "metadata": {},
   "source": [
    "Decode all files in directory"
   ]
  },
  {
   "cell_type": "code",
   "execution_count": null,
   "metadata": {},
   "outputs": [],
   "source": [
    "import glob\n",
    "\n",
    "image_paths = glob.glob('{}/../build/bin/bin/in_mix/*.*'.format(resources_dir))\n",
    "batch_size = 5\n",
    "file_name_batches = [image_paths[i: i + batch_size] for i in range(0, len(image_paths), batch_size)] \n",
    "for file_name_batch in file_name_batches:\n",
    "    data = []\n",
    "    for path in file_name_batch:\n",
    "        with open(path, \"rb\") as in_file:\n",
    "            data.append(in_file.read())\n",
    "            \n",
    "    image_list = dec.decode(data)\n",
    "\n",
    "    for img in image_list:\n",
    "        cp_img = cp.asarray(img)\n",
    "        np_img = cp.asnumpy(cp_img)\n",
    "        plt.figure()\n",
    "        plt.imshow(np_img)\n"
   ]
  }
 ],
 "metadata": {
  "kernelspec": {
   "display_name": "Python 3",
   "language": "python",
   "name": "python3"
  },
  "language_info": {
   "codemirror_mode": {
    "name": "ipython",
    "version": 3
   },
   "file_extension": ".py",
   "mimetype": "text/x-python",
   "name": "python",
   "nbconvert_exporter": "python",
   "pygments_lexer": "ipython3",
   "version": "3.8.10"
  },
  "orig_nbformat": 4
 },
 "nbformat": 4,
 "nbformat_minor": 2
}
