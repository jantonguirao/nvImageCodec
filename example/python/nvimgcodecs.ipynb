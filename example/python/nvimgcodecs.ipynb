{
 "cells": [
  {
   "cell_type": "markdown",
   "metadata": {},
   "source": [
    "# nvImageCodecs examples"
   ]
  },
  {
   "cell_type": "code",
   "execution_count": null,
   "metadata": {},
   "outputs": [],
   "source": [
    "import os\n",
    "import cv2\n",
    "from matplotlib import pyplot as plt"
   ]
  },
  {
   "cell_type": "code",
   "execution_count": null,
   "metadata": {},
   "outputs": [],
   "source": [
    "#os.chdir(\"c:\\\\Users\\\\smatysik\\\\projects\\\\nvimagecodecs\\\\build\\\\bin\\\\python\")\n",
    "os.chdir(\"/mnt/c/Users/smatysik/projects/nvImageCodecsWSL/build/bin/python\")\n",
    "resources_dir = \"../../../resources\""
   ]
  },
  {
   "cell_type": "markdown",
   "metadata": {},
   "source": [
    "## OpenCV"
   ]
  },
  {
   "cell_type": "markdown",
   "metadata": {},
   "source": [
    "Load small image with OpenCV"
   ]
  },
  {
   "cell_type": "code",
   "execution_count": null,
   "metadata": {},
   "outputs": [],
   "source": [
    "%%time \n",
    "cv_img_cat = cv2.imread(\"{}/base/cat.j2k\".format(resources_dir))"
   ]
  },
  {
   "cell_type": "code",
   "execution_count": null,
   "metadata": {},
   "outputs": [],
   "source": [
    "cv_img_cat = cv2.cvtColor(cv_img_cat, cv2.COLOR_BGR2RGB)\n",
    "plt.imshow(cv_img_cat)"
   ]
  },
  {
   "cell_type": "markdown",
   "metadata": {},
   "source": [
    "Load 4k image with OpenCV"
   ]
  },
  {
   "cell_type": "code",
   "execution_count": null,
   "metadata": {},
   "outputs": [],
   "source": [
    "%%time \n",
    "#%%timeit -r 1 -n 10\n",
    "cv_img_4k = cv2.imread(\"{}/base/4k_lossless.jp2\".format(resources_dir))"
   ]
  },
  {
   "cell_type": "code",
   "execution_count": null,
   "metadata": {},
   "outputs": [],
   "source": [
    "cv_img_4k = cv2.cvtColor(cv_img_4k, cv2.COLOR_BGR2RGB)\n",
    "plt.imshow(cv_img_4k)\n"
   ]
  },
  {
   "cell_type": "markdown",
   "metadata": {},
   "source": [
    "## nvImageCodecs"
   ]
  },
  {
   "cell_type": "code",
   "execution_count": null,
   "metadata": {},
   "outputs": [],
   "source": [
    "import nvimgcodecs"
   ]
  },
  {
   "cell_type": "markdown",
   "metadata": {},
   "source": [
    "Load small Jpeg2000 image with nvImageCodecs"
   ]
  },
  {
   "cell_type": "code",
   "execution_count": null,
   "metadata": {},
   "outputs": [],
   "source": [
    "%%time\n",
    "#%%timeit -r 5 -n 10\n",
    "nv_img_cat = nvimgcodecs.imread(\"{}/base/cat.j2k\".format(resources_dir))\n"
   ]
  },
  {
   "cell_type": "markdown",
   "metadata": {},
   "source": [
    "Load 4k Jpeg2000 (in jp2 container) image with nvImageCodecs"
   ]
  },
  {
   "cell_type": "code",
   "execution_count": null,
   "metadata": {},
   "outputs": [],
   "source": [
    "%%time\n",
    "#%%timeit -r 5 -n 10\n",
    "nv_img4k = nvimgcodecs.imread(\"{}/base/4k_lossless.jp2\".format(resources_dir))\n"
   ]
  },
  {
   "cell_type": "markdown",
   "metadata": {},
   "source": [
    "Save 4k image to bmp file with nvImageCodecs"
   ]
  },
  {
   "cell_type": "code",
   "execution_count": null,
   "metadata": {},
   "outputs": [],
   "source": [
    "%%time\n",
    "# %%timeit -r 1 -n 10\n",
    "nvimgcodecs.imwrite(\"4k_lossless-jp2-o.bmp\", nv_img4k)\n"
   ]
  },
  {
   "cell_type": "markdown",
   "metadata": {},
   "source": [
    "Read back with OpenCV just saved (with nvImageCodecs) bmp image "
   ]
  },
  {
   "cell_type": "code",
   "execution_count": null,
   "metadata": {},
   "outputs": [],
   "source": [
    "cv_img_4k_bmp = cv2.imread(\"4k_lossless-jp2-o.bmp\")\n",
    "cv_img_4k_bmp = cv2.cvtColor(cv_img_4k_bmp, cv2.COLOR_BGR2RGB)\n",
    "plt.imshow(cv_img_4k_bmp)"
   ]
  },
  {
   "cell_type": "markdown",
   "metadata": {},
   "source": [
    "Save 4k image to jpg file with nvImageCodecs"
   ]
  },
  {
   "cell_type": "code",
   "execution_count": null,
   "metadata": {},
   "outputs": [],
   "source": [
    "%%time\n",
    "#%%timeit -r 1 -n 10\n",
    "nvimgcodecs.imwrite(\"4k_lossless-jp2-o.jpg\", nv_img4k)\n"
   ]
  },
  {
   "cell_type": "markdown",
   "metadata": {},
   "source": [
    "Read back with OpenCV just save (with nvImageCodecs) bmp image "
   ]
  },
  {
   "cell_type": "code",
   "execution_count": null,
   "metadata": {},
   "outputs": [],
   "source": [
    "image = cv2.imread(\"4k_lossless-jp2-o.jpg\")\n",
    "image = cv2.cvtColor(image, cv2.COLOR_BGR2RGB)\n",
    "plt.imshow(image)"
   ]
  },
  {
   "cell_type": "markdown",
   "metadata": {},
   "source": [
    "Load jpg with nvImageCodecs"
   ]
  },
  {
   "cell_type": "code",
   "execution_count": null,
   "metadata": {},
   "outputs": [],
   "source": [
    "%%time\n",
    "nv_img_jpg = nvimgcodecs.imread(\"{}/base/cat_q95_444.jpg\".format(resources_dir))"
   ]
  },
  {
   "cell_type": "markdown",
   "metadata": {},
   "source": [
    "Save as Jpeg 2000 with nvImageCodecs"
   ]
  },
  {
   "cell_type": "code",
   "execution_count": null,
   "metadata": {},
   "outputs": [],
   "source": [
    "%%time\n",
    "# %%timeit -r 1 -n 10\n",
    "nvimgcodecs.imwrite(\"cat-jpg-o.j2k\", nv_img_jpg)\n"
   ]
  },
  {
   "cell_type": "markdown",
   "metadata": {},
   "source": [
    "Read back with OpenCV just saved (with nvImageCodecs) j2k image "
   ]
  },
  {
   "cell_type": "code",
   "execution_count": null,
   "metadata": {},
   "outputs": [],
   "source": [
    "image = cv2.imread(\"cat-jpg-o.j2k\")\n",
    "image = cv2.cvtColor(image, cv2.COLOR_BGR2RGB)\n",
    "plt.imshow(image)"
   ]
  },
  {
   "cell_type": "markdown",
   "metadata": {},
   "source": [
    "### Passing decoding parameters"
   ]
  },
  {
   "cell_type": "code",
   "execution_count": null,
   "metadata": {},
   "outputs": [],
   "source": [
    "nv_img_jpg = nvimgcodecs.imread(\"{}/base/f8-exif.jpg\".format(resources_dir))\n",
    "nvimgcodecs.imwrite(\"f8-exif.bmp\", nv_img_jpg)\n",
    "image = cv2.imread(\"f8-exif.bmp\")\n",
    "image = cv2.cvtColor(image, cv2.COLOR_BGR2RGB)\n",
    "plt.imshow(image)"
   ]
  },
  {
   "cell_type": "markdown",
   "metadata": {},
   "source": [
    "Let assume we would like to ignore exif orientation"
   ]
  },
  {
   "cell_type": "code",
   "execution_count": null,
   "metadata": {},
   "outputs": [],
   "source": [
    "nv_img_jpg = nvimgcodecs.imread(\"{}/base/f8-exif.jpg\".format(resources_dir), nvimgcodecs.NVIMGCDCS_IMREAD_IGNORE_ORIENTATION)\n",
    "nvimgcodecs.imwrite(\"f8-wo-exif.bmp\", nv_img_jpg)\n",
    "image = cv2.imread(\"f8-wo-exif.bmp\")\n",
    "image = cv2.cvtColor(image, cv2.COLOR_BGR2RGB)\n",
    "plt.imshow(image)\n"
   ]
  },
  {
   "cell_type": "markdown",
   "metadata": {},
   "source": [
    "### Passing encoding parameters"
   ]
  },
  {
   "cell_type": "markdown",
   "metadata": {},
   "source": [
    "Changing quality and chroma subsampling in jpeg"
   ]
  },
  {
   "cell_type": "code",
   "execution_count": null,
   "metadata": {},
   "outputs": [],
   "source": [
    "nv_img_jpg = nvimgcodecs.imread(\"{}/base/cat_q95_444.jpg\".format(resources_dir))\n",
    "nvimgcodecs.imwrite(\"cat-q5-gray.jpg\", nv_img_jpg,\n",
    "                    [nvimgcodecs.NVIMGCDCS_IMWRITE_JPEG_QUALITY, 5, \n",
    "                     nvimgcodecs.NVIMGCDCS_IMWRITE_JPEG_SAMPLING_FACTOR, nvimgcodecs.NVIMGCDCS_IMWRITE_SAMPLING_FACTOR_GRAY])\n",
    "image = cv2.imread(\"cat-q5-gray.jpg\")\n",
    "image = cv2.cvtColor(image, cv2.COLOR_BGR2RGB)\n",
    "plt.imshow(image)"
   ]
  },
  {
   "cell_type": "markdown",
   "metadata": {},
   "source": [
    "Encode lossless and lossy with jpeg2000"
   ]
  },
  {
   "cell_type": "code",
   "execution_count": null,
   "metadata": {},
   "outputs": [],
   "source": [
    "import ctypes\n",
    "nv_img_jpg = nvimgcodecs.imread(\"{}/base/cat_q95_444.jpg\".format(resources_dir))\n",
    "nvimgcodecs.imwrite(\"cat-psnr20.j2k\", nv_img_jpg, \n",
    "                [nvimgcodecs.NVIMGCDCS_IMWRITE_JPEG2K_TARGET_PSNR, ctypes.c_uint32.from_buffer(ctypes.c_float(20.90)).value])\n",
    "nvimgcodecs.imwrite(\"cat-lossless.j2k\", nv_img_jpg,\n",
    "                    [nvimgcodecs.NVIMGCDCS_IMWRITE_JPEG2K_REVERSIBLE])\n",
    "nvimgcodecs.imwrite(\"cat-lossless-2decomps.j2k\", nv_img_jpg,\n",
    "                    [nvimgcodecs.NVIMGCDCS_IMWRITE_JPEG2K_REVERSIBLE, nvimgcodecs.NVIMGCDCS_IMWRITE_JPEG2K_NUM_DECOMPS, 2])\n",
    "print(\"lossy file size:\", os.path.getsize(\"cat-psnr20.j2k\"))\n",
    "print(\"lossless file size:\", os.path.getsize(\"cat-lossless.j2k\"))\n",
    "print(\"lossless 2 decomposition levels file size:\",\n",
    "      os.path.getsize(\"cat-lossless-2decomps.j2k\"))\n",
    "image = cv2.imread(\"cat-psnr20.j2k\")\n",
    "image = cv2.cvtColor(image, cv2.COLOR_BGR2RGB)\n",
    "plt.imshow(image)"
   ]
  },
  {
   "cell_type": "markdown",
   "metadata": {},
   "source": [
    "### nvImageCodes Image  __cuda_array_interface__ support"
   ]
  },
  {
   "cell_type": "code",
   "execution_count": null,
   "metadata": {},
   "outputs": [],
   "source": [
    "print(nv_img4k.__cuda_array_interface__)\n",
    "print(nv_img4k.shape)\n"
   ]
  }
 ],
 "metadata": {
  "kernelspec": {
   "display_name": "Python 3.8.10 64-bit",
   "language": "python",
   "name": "python3"
  },
  "language_info": {
   "codemirror_mode": {
    "name": "ipython",
    "version": 3
   },
   "file_extension": ".py",
   "mimetype": "text/x-python",
   "name": "python",
   "nbconvert_exporter": "python",
   "pygments_lexer": "ipython3",
   "version": "3.8.10"
  },
  "orig_nbformat": 4,
  "vscode": {
   "interpreter": {
    "hash": "916dbcbb3f70747c44a77c7bcd40155683ae19c65e1c03b4aa3499c5328201f1"
   }
  }
 },
 "nbformat": 4,
 "nbformat_minor": 2
}
