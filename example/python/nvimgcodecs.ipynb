{
 "cells": [
  {
   "attachments": {},
   "cell_type": "markdown",
   "metadata": {},
   "source": [
    "# nvImageCodecs examples"
   ]
  },
  {
   "cell_type": "code",
   "execution_count": null,
   "metadata": {},
   "outputs": [],
   "source": [
    "import os\n",
    "import cv2\n",
    "from matplotlib import pyplot as plt"
   ]
  },
  {
   "cell_type": "code",
   "execution_count": null,
   "metadata": {},
   "outputs": [],
   "source": [
    "resources_dir = \"../../resources\""
   ]
  },
  {
   "attachments": {},
   "cell_type": "markdown",
   "metadata": {},
   "source": [
    "Create Decoder and Encoder"
   ]
  },
  {
   "cell_type": "code",
   "execution_count": null,
   "metadata": {},
   "outputs": [],
   "source": [
    "from nvidia import nvimgcodecs\n",
    "decoder = nvimgcodecs.Decoder()\n",
    "encoder = nvimgcodecs.Encoder()"
   ]
  },
  {
   "attachments": {},
   "cell_type": "markdown",
   "metadata": {},
   "source": [
    "Load and decode Jpeg2000 image with nvImageCodecs"
   ]
  },
  {
   "cell_type": "code",
   "execution_count": null,
   "metadata": {},
   "outputs": [],
   "source": [
    "with open(resources_dir + \"/base/cat.j2k\", 'rb') as in_file:\n",
    "    data = in_file.read()\n",
    "    nv_img_cat = decoder.decode(data)"
   ]
  },
  {
   "attachments": {},
   "cell_type": "markdown",
   "metadata": {},
   "source": [
    "Save image to bmp file with nvImageCodecs"
   ]
  },
  {
   "cell_type": "code",
   "execution_count": null,
   "metadata": {},
   "outputs": [],
   "source": [
    "with open(\"cat-j2k-o.bmp\", 'wb') as out_file:\n",
    "    data = encoder.encode(nv_img_cat, \"bmp\")\n",
    "    out_file.write(data)"
   ]
  },
  {
   "attachments": {},
   "cell_type": "markdown",
   "metadata": {},
   "source": [
    "Read back with OpenCV just saved (with nvImageCodecs) bmp image "
   ]
  },
  {
   "cell_type": "code",
   "execution_count": null,
   "metadata": {},
   "outputs": [],
   "source": [
    "cv_img_4k_bmp = cv2.imread(\"cat-j2k-o.bmp\")\n",
    "cv_img_4k_bmp = cv2.cvtColor(cv_img_4k_bmp, cv2.COLOR_BGR2RGB)\n",
    "plt.imshow(cv_img_4k_bmp)"
   ]
  },
  {
   "attachments": {},
   "cell_type": "markdown",
   "metadata": {},
   "source": [
    "Load and decode 4k Jpeg2000 (in jp2 container) image with nvImageCodecs in one function"
   ]
  },
  {
   "cell_type": "code",
   "execution_count": null,
   "metadata": {},
   "outputs": [],
   "source": [
    "nv_img4k = decoder.decode(resources_dir + \"/base/4k_lossless.jp2\")"
   ]
  },
  {
   "attachments": {},
   "cell_type": "markdown",
   "metadata": {},
   "source": [
    "Save 4k image to jpg file with nvImageCodecs"
   ]
  },
  {
   "cell_type": "code",
   "execution_count": null,
   "metadata": {},
   "outputs": [],
   "source": [
    "enc_params = nvimgcodecs.EncodeParams()\n",
    "encoder.encode(\"4k_lossless-jp2-o.jpg\", nv_img4k)"
   ]
  },
  {
   "attachments": {},
   "cell_type": "markdown",
   "metadata": {},
   "source": [
    "Read back with OpenCV just save (with nvImageCodecs) bmp image "
   ]
  },
  {
   "cell_type": "code",
   "execution_count": null,
   "metadata": {},
   "outputs": [],
   "source": [
    "image = cv2.imread(\"4k_lossless-jp2-o.jpg\")\n",
    "image = cv2.cvtColor(image, cv2.COLOR_BGR2RGB)\n",
    "plt.imshow(image)"
   ]
  },
  {
   "attachments": {},
   "cell_type": "markdown",
   "metadata": {},
   "source": [
    "Load jpg with nvImageCodecs"
   ]
  },
  {
   "cell_type": "code",
   "execution_count": null,
   "metadata": {},
   "outputs": [],
   "source": [
    "nv_img_jpg = decoder.decode(resources_dir + \"/base/cat_q95_444.jpg\")"
   ]
  },
  {
   "attachments": {},
   "cell_type": "markdown",
   "metadata": {},
   "source": [
    "Save as Jpeg 2000 with nvImageCodecs"
   ]
  },
  {
   "cell_type": "code",
   "execution_count": null,
   "metadata": {},
   "outputs": [],
   "source": [
    "encoder.encode(\"cat-jpg-o.j2k\", nv_img_jpg)"
   ]
  },
  {
   "attachments": {},
   "cell_type": "markdown",
   "metadata": {},
   "source": [
    "Read back with OpenCV just saved (with nvImageCodecs) j2k image "
   ]
  },
  {
   "cell_type": "code",
   "execution_count": null,
   "metadata": {},
   "outputs": [],
   "source": [
    "image = cv2.imread(\"cat-jpg-o.j2k\")\n",
    "image = cv2.cvtColor(image, cv2.COLOR_BGR2RGB)\n",
    "plt.imshow(image)"
   ]
  },
  {
   "attachments": {},
   "cell_type": "markdown",
   "metadata": {},
   "source": [
    "### Passing decoding parameters"
   ]
  },
  {
   "attachments": {},
   "cell_type": "markdown",
   "metadata": {},
   "source": [
    "Decode jpeg with Exif orientation - by default it applies exif orientation"
   ]
  },
  {
   "cell_type": "code",
   "execution_count": null,
   "metadata": {},
   "outputs": [],
   "source": [
    "nv_img_jpg = decoder.decode(resources_dir+ \"/base/f8-exif.jpg\")\n",
    "encoder.encode(\"f8-exif.bmp\", nv_img_jpg)\n",
    "image = cv2.imread(\"f8-exif.bmp\")\n",
    "image = cv2.cvtColor(image, cv2.COLOR_BGR2RGB)\n",
    "plt.imshow(image)"
   ]
  },
  {
   "attachments": {},
   "cell_type": "markdown",
   "metadata": {},
   "source": [
    "Let assume we would like to ignore exif orientation"
   ]
  },
  {
   "cell_type": "code",
   "execution_count": null,
   "metadata": {},
   "outputs": [],
   "source": [
    "dec_params = nvimgcodecs.DecodeParams(enable_orientation=False)\n",
    "nv_img_jpg = decoder.decode(resources_dir + \"/base/f8-exif.jpg\", dec_params)\n",
    "encoder.encode(\"f8-wo-exif.bmp\", nv_img_jpg)\n",
    "image = cv2.imread(\"f8-wo-exif.bmp\")\n",
    "image = cv2.cvtColor(image, cv2.COLOR_BGR2RGB)\n",
    "plt.imshow(image)"
   ]
  },
  {
   "attachments": {},
   "cell_type": "markdown",
   "metadata": {},
   "source": [
    "### Passing encoding parameters"
   ]
  },
  {
   "attachments": {},
   "cell_type": "markdown",
   "metadata": {},
   "source": [
    "Changing quality and chroma subsampling in jpeg"
   ]
  },
  {
   "cell_type": "code",
   "execution_count": null,
   "metadata": {},
   "outputs": [],
   "source": [
    "nv_img_jpg = decoder.decode(resources_dir + \"/base/cat_q95_444.jpg\")\n",
    "enc_params = nvimgcodecs.EncodeParams(quality=5, chroma_subsampling=nvimgcodecs.ChromaSubsampling.CSS_GRAY)\n",
    "encoder.encode(\"cat-q5-gray.jpg\", nv_img_jpg, params=enc_params)\n",
    "                    \n",
    "image = cv2.imread(\"cat-q5-gray.jpg\")\n",
    "image = cv2.cvtColor(image, cv2.COLOR_BGR2RGB)\n",
    "plt.imshow(image)"
   ]
  },
  {
   "attachments": {},
   "cell_type": "markdown",
   "metadata": {},
   "source": [
    "Jpeg optimized huffman and progressive encoding"
   ]
  },
  {
   "cell_type": "code",
   "execution_count": null,
   "metadata": {},
   "outputs": [],
   "source": [
    "nv_img_jpg = decoder.decode(resources_dir + \"/base/cat_q95_444.jpg\")\n",
    "encoder.encode(\"cat-q75.jpg\", nv_img_jpg, params=nvimgcodecs.EncodeParams(quality=75))\n",
    "encoder.encode(\"cat-q75-optimized_huffman.jpg\", nv_img_jpg, params=nvimgcodecs.EncodeParams(\n",
    "    quality=75, jpeg_optimized_huffman=True, jpeg_progressive = True))\n",
    "\n",
    "print(\"default huffman file size:\", os.path.getsize(\"cat-q75.jpg\"))\n",
    "print(\"optimized huffman file size:\", os.path.getsize(\n",
    "    \"cat-q75-optimized_huffman.jpg\"))\n",
    "\n",
    "image = cv2.imread(\"cat-q75-optimized_huffman.jpg\")\n",
    "image = cv2.cvtColor(image, cv2.COLOR_BGR2RGB)\n",
    "plt.imshow(image)\n"
   ]
  },
  {
   "attachments": {},
   "cell_type": "markdown",
   "metadata": {},
   "source": [
    "Encode lossless and lossy with jpeg2000"
   ]
  },
  {
   "cell_type": "code",
   "execution_count": null,
   "metadata": {},
   "outputs": [],
   "source": [
    "import ctypes\n",
    "nv_img_jpg = decoder.decode(resources_dir + \"/base/cat_q95_444.jpg\")\n",
    "\n",
    "encoder.encode(\"cat-psnr20.j2k\", nv_img_jpg, params=nvimgcodecs.EncodeParams(target_psnr=20.90))\n",
    "encoder.encode(\"cat-lossless.j2k\", nv_img_jpg,\n",
    "               params=nvimgcodecs.EncodeParams(jpeg2k_reversible=True))\n",
    "encoder.encode(\"cat-lossless-2decomps.j2k\", nv_img_jpg,\n",
    "               params=nvimgcodecs.EncodeParams(\n",
    "                  jpeg2k_reversible=True, \n",
    "                  jpeg2k_num_resolutions=2, \n",
    "                  jpeg2k_code_block_size=(32, 32), \n",
    "                  jpeg2k_bitstream_type=nvimgcodecs.Jpeg2kBitstreamType.JP2,\n",
    "                  jpeg2k_prog_order=nvimgcodecs.Jpeg2kProgOrder.LRCP))\n",
    "print(\"lossy file size:\", os.path.getsize(\"cat-psnr20.j2k\"))\n",
    "print(\"lossless file size:\", os.path.getsize(\"cat-lossless.j2k\"))\n",
    "print(\"lossless 2 decomposition levels file size:\",\n",
    "      os.path.getsize(\"cat-lossless-2decomps.j2k\"))\n",
    "image = cv2.imread(\"cat-psnr20.j2k\")\n",
    "image = cv2.cvtColor(image, cv2.COLOR_BGR2RGB)\n",
    "plt.imshow(image)"
   ]
  },
  {
   "attachments": {},
   "cell_type": "markdown",
   "metadata": {},
   "source": [
    "### nvImageCodes Image  __cuda_array_interface__ support"
   ]
  },
  {
   "cell_type": "code",
   "execution_count": null,
   "metadata": {},
   "outputs": [],
   "source": [
    "print(nv_img4k.__cuda_array_interface__)\n",
    "print(nv_img4k.shape)"
   ]
  }
 ],
 "metadata": {
  "kernelspec": {
   "display_name": "Python 3.8.10 64-bit",
   "language": "python",
   "name": "python3"
  },
  "language_info": {
   "codemirror_mode": {
    "name": "ipython",
    "version": 3
   },
   "file_extension": ".py",
   "mimetype": "text/x-python",
   "name": "python",
   "nbconvert_exporter": "python",
   "pygments_lexer": "ipython3",
   "version": "3.8.10"
  },
  "orig_nbformat": 4,
  "vscode": {
   "interpreter": {
    "hash": "916dbcbb3f70747c44a77c7bcd40155683ae19c65e1c03b4aa3499c5328201f1"
   }
  }
 },
 "nbformat": 4,
 "nbformat_minor": 2
}
