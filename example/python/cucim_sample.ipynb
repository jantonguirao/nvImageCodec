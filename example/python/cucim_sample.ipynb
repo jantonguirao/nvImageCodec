{
 "cells": [
  {
   "attachments": {},
   "cell_type": "markdown",
   "metadata": {},
   "source": [
    "# nvImageCodecs with cuCIM (only Linux)"
   ]
  },
  {
   "cell_type": "code",
   "execution_count": null,
   "metadata": {},
   "outputs": [],
   "source": [
    "import os\n",
    "from matplotlib import pyplot as plt\n",
    "import cupy as cp"
   ]
  },
  {
   "cell_type": "code",
   "execution_count": null,
   "metadata": {},
   "outputs": [],
   "source": [
    "from nvidia import nvimgcodecs\n",
    "decoder = nvimgcodecs.Decoder()\n",
    "encoder = nvimgcodecs.Encoder()\n",
    "resources_dir = \"../../resources\""
   ]
  },
  {
   "cell_type": "code",
   "execution_count": null,
   "metadata": {},
   "outputs": [],
   "source": [
    "nv_img4k = decoder.decode(resources_dir + \"/base/4k_lossless.jp2\")"
   ]
  },
  {
   "attachments": {},
   "cell_type": "markdown",
   "metadata": {},
   "source": [
    "Convert to cupy ndarray"
   ]
  },
  {
   "cell_type": "code",
   "execution_count": null,
   "metadata": {},
   "outputs": [],
   "source": [
    "cp_img4k = cp.asarray(nv_img4k)"
   ]
  },
  {
   "cell_type": "code",
   "execution_count": null,
   "metadata": {},
   "outputs": [],
   "source": [
    "cp_img_4k_single_channel = cp_img4k[:, :, 1]"
   ]
  },
  {
   "cell_type": "code",
   "execution_count": null,
   "metadata": {},
   "outputs": [],
   "source": [
    "from cucim.skimage.filters import gaussian\n",
    "cp_img4k_blurred = gaussian(cp_img_4k_single_channel, sigma=15)\n",
    "image = cp.asnumpy(cp_img4k_blurred)\n",
    "plt.imshow(image, cmap='gray')"
   ]
  },
  {
   "cell_type": "code",
   "execution_count": null,
   "metadata": {},
   "outputs": [],
   "source": [
    "from cucim.skimage.filters import threshold_otsu\n",
    "# determine threshold\n",
    "threshold = threshold_otsu(cp_img4k_blurred)\n",
    "\n",
    "# binarize image by apply the threshold\n",
    "cp_binary_gpu = cp_img4k_blurred > threshold\n",
    "\n",
    "image = cp.asnumpy(cp_binary_gpu)\n",
    "plt.imshow(image, cmap='gray')"
   ]
  },
  {
   "cell_type": "code",
   "execution_count": null,
   "metadata": {},
   "outputs": [],
   "source": [
    "from cucim.skimage.morphology import binary_erosion, disk\n",
    "\n",
    "eroded_gpu = binary_erosion(cp_binary_gpu, selem=disk(2))\n",
    "image = cp.asnumpy(eroded_gpu)\n",
    "plt.imshow(image, cmap='gray')\n"
   ]
  },
  {
   "cell_type": "code",
   "execution_count": null,
   "metadata": {},
   "outputs": [],
   "source": [
    "cp_img4k_blurred_color = gaussian(cp_img4k, sigma=35)\n",
    "image = cp.asnumpy(cp_img4k_blurred_color)\n",
    "plt.imshow(image)"
   ]
  },
  {
   "attachments": {},
   "cell_type": "markdown",
   "metadata": {},
   "source": [
    "Please notice that cuCIM returned blurred color image as a HWC and in float"
   ]
  },
  {
   "cell_type": "code",
   "execution_count": null,
   "metadata": {},
   "outputs": [],
   "source": [
    "print(cp_img4k_blurred_color.__cuda_array_interface__)\n",
    "cp_img4k_blurred_color = cp_img4k_blurred_color*255\n",
    "cp_img4k_blurred_color_int = cp_img4k_blurred_color.astype(\"u1\")\n",
    "print(cp_img4k_blurred_color_int.__cuda_array_interface__)"
   ]
  },
  {
   "cell_type": "code",
   "execution_count": null,
   "metadata": {},
   "outputs": [],
   "source": [
    "nv_img = nvimgcodecs.as_image(cp_img4k_blurred_color_int)"
   ]
  },
  {
   "cell_type": "code",
   "execution_count": null,
   "metadata": {},
   "outputs": [],
   "source": [
    "encoder.encode(\"blurred.jpg\", nv_img)"
   ]
  },
  {
   "cell_type": "code",
   "execution_count": null,
   "metadata": {},
   "outputs": [],
   "source": [
    "import cv2\n",
    "image = cv2.imread(\"blurred.jpg\")\n",
    "image = cv2.cvtColor(image, cv2.COLOR_BGR2RGB)\n",
    "plt.imshow(image)\n"
   ]
  }
 ],
 "metadata": {
  "kernelspec": {
   "display_name": "Python 3.8.10 64-bit",
   "language": "python",
   "name": "python3"
  },
  "language_info": {
   "codemirror_mode": {
    "name": "ipython",
    "version": 3
   },
   "file_extension": ".py",
   "mimetype": "text/x-python",
   "name": "python",
   "nbconvert_exporter": "python",
   "pygments_lexer": "ipython3",
   "version": "3.8.10"
  },
  "orig_nbformat": 4,
  "vscode": {
   "interpreter": {
    "hash": "916dbcbb3f70747c44a77c7bcd40155683ae19c65e1c03b4aa3499c5328201f1"
   }
  }
 },
 "nbformat": 4,
 "nbformat_minor": 2
}
