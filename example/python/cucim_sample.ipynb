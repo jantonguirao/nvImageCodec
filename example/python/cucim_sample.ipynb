{
 "cells": [
  {
   "cell_type": "markdown",
   "metadata": {},
   "source": [
    "Interoperability with cuCIM (only Linux)"
   ]
  },
  {
   "cell_type": "code",
   "execution_count": 1,
   "metadata": {},
   "outputs": [
    {
     "ename": "ModuleNotFoundError",
     "evalue": "No module named 'cucim'",
     "output_type": "error",
     "traceback": [
      "\u001b[1;31m---------------------------------------------------------------------------\u001b[0m",
      "\u001b[1;31mModuleNotFoundError\u001b[0m                       Traceback (most recent call last)",
      "\u001b[1;32mc:\\Users\\smatysik\\projects\\nvimagecodec\\example\\python\\cucim_sample.ipynb Cell 2\u001b[0m in \u001b[0;36m<cell line: 4>\u001b[1;34m()\u001b[0m\n\u001b[0;32m      <a href='vscode-notebook-cell:/c%3A/Users/smatysik/projects/nvimagecodec/example/python/cucim_sample.ipynb#W1sZmlsZQ%3D%3D?line=1'>2</a>\u001b[0m \u001b[39mfrom\u001b[39;00m \u001b[39mmatplotlib\u001b[39;00m \u001b[39mimport\u001b[39;00m pyplot \u001b[39mas\u001b[39;00m plt\n\u001b[0;32m      <a href='vscode-notebook-cell:/c%3A/Users/smatysik/projects/nvimagecodec/example/python/cucim_sample.ipynb#W1sZmlsZQ%3D%3D?line=2'>3</a>\u001b[0m \u001b[39mimport\u001b[39;00m \u001b[39mcupy\u001b[39;00m \u001b[39mas\u001b[39;00m \u001b[39mcp\u001b[39;00m\n\u001b[1;32m----> <a href='vscode-notebook-cell:/c%3A/Users/smatysik/projects/nvimagecodec/example/python/cucim_sample.ipynb#W1sZmlsZQ%3D%3D?line=3'>4</a>\u001b[0m \u001b[39mfrom\u001b[39;00m \u001b[39mcucim\u001b[39;00m\u001b[39m.\u001b[39;00m\u001b[39mskimage\u001b[39;00m\u001b[39m.\u001b[39;00m\u001b[39mfilters\u001b[39;00m \u001b[39mimport\u001b[39;00m gaussian\n\u001b[0;32m      <a href='vscode-notebook-cell:/c%3A/Users/smatysik/projects/nvimagecodec/example/python/cucim_sample.ipynb#W1sZmlsZQ%3D%3D?line=5'>6</a>\u001b[0m os\u001b[39m.\u001b[39mchdir(\u001b[39m\"\u001b[39m\u001b[39m/mnt/c/Users/smatysik/projects/nvImageCodecsWSL2/build/example/example_decode\u001b[39m\u001b[39m\"\u001b[39m)\n\u001b[0;32m      <a href='vscode-notebook-cell:/c%3A/Users/smatysik/projects/nvimagecodec/example/python/cucim_sample.ipynb#W1sZmlsZQ%3D%3D?line=6'>7</a>\u001b[0m \u001b[39mimport\u001b[39;00m \u001b[39mnvimgcodecs\u001b[39;00m\n",
      "\u001b[1;31mModuleNotFoundError\u001b[0m: No module named 'cucim'"
     ]
    }
   ],
   "source": [
    "\n",
    "import os\n",
    "from matplotlib import pyplot as plt\n",
    "import cupy as cp\n",
    "from cucim.skimage.filters import gaussian\n",
    "\n",
    "os.chdir(\"/mnt/c/Users/smatysik/projects/nvImageCodecsWSL2/build/example/example_decode\")\n",
    "import nvimgcodecs"
   ]
  },
  {
   "cell_type": "code",
   "execution_count": null,
   "metadata": {},
   "outputs": [],
   "source": [
    "nv_img4k = nvimgcodecs.imread(\"4k_lossless.jp2\")"
   ]
  },
  {
   "cell_type": "markdown",
   "metadata": {},
   "source": [
    "Convert to cupy ndarray"
   ]
  },
  {
   "cell_type": "code",
   "execution_count": null,
   "metadata": {},
   "outputs": [],
   "source": [
    "%%time\n",
    "cp_img4k = cp.asarray(nv_img4k)\n",
    "# CHW(c-style) = Planar -> HWC (c-style) = Interleave\n",
    "print(cp_img4k.__cuda_array_interface__)\n",
    "\n",
    "cp_img4k = cp.moveaxis(cp_img4k, (2, 1, 0), (1, 0, 2))\n",
    "# In Fortran the most rapidly changing index comes first\n",
    "cp_img4k = cp.asfortranarray(cp_img4k)\n",
    "cp_img4k = cp.ascontiguousarray(cp_img4k)\n",
    "\n",
    "print(cp_img4k.__cuda_array_interface__)\n",
    "cp_img_4k_single_channel = cp_img4k[:, :, 1]"
   ]
  },
  {
   "cell_type": "code",
   "execution_count": null,
   "metadata": {},
   "outputs": [],
   "source": [
    "cp_img4k_blurred = gaussian(cp_img_4k_single_channel, sigma=5)\n",
    "cp_img4k_blurred_color = gaussian(nv_img4k, sigma=25)\n",
    "image = cp.asnumpy(cp_img4k_blurred)\n",
    "plt.imshow(image, cmap='gray')"
   ]
  },
  {
   "cell_type": "code",
   "execution_count": null,
   "metadata": {},
   "outputs": [],
   "source": [
    "from cucim.skimage.filters import threshold_otsu\n",
    "# determine threshold\n",
    "threshold = threshold_otsu(cp_img4k_blurred)\n",
    "\n",
    "# binarize image by apply the threshold\n",
    "cp_binary_gpu = cp_img4k_blurred > threshold\n",
    "\n",
    "image = cp.asnumpy(cp_binary_gpu)\n",
    "plt.imshow(image, cmap='gray')\n"
   ]
  },
  {
   "cell_type": "code",
   "execution_count": null,
   "metadata": {},
   "outputs": [],
   "source": [
    "from cucim.skimage.morphology import binary_erosion, disk\n",
    "\n",
    "eroded_gpu = binary_erosion(cp_binary_gpu, selem=disk(2))\n",
    "image = cp.asnumpy(eroded_gpu)\n",
    "plt.imshow(image, cmap='gray')\n"
   ]
  },
  {
   "cell_type": "code",
   "execution_count": null,
   "metadata": {},
   "outputs": [],
   "source": [
    "print(cp_img4k_blurred_color.__cuda_array_interface__)"
   ]
  },
  {
   "cell_type": "code",
   "execution_count": null,
   "metadata": {},
   "outputs": [],
   "source": [
    "%%time\n",
    "cp_img_planar = cp.moveaxis(cp_img4k_blurred_color, (0, 1), (1, 0))\n",
    "cp_img_planar = cp.asfortranarray(cp_img_planar)\n",
    "cp_img_planar = cp.moveaxis(cp_img_planar, (0, 1), (1, 0))\n",
    "nv_img = nvimgcodecs.asimage(cp_img_planar)\n"
   ]
  },
  {
   "cell_type": "code",
   "execution_count": null,
   "metadata": {},
   "outputs": [],
   "source": [
    "%%time\n",
    "nvimgcodecs.imwrite(\"blurred.j2k\", nv_img)\n"
   ]
  }
 ],
 "metadata": {
  "kernelspec": {
   "display_name": "Python 3.9.13 64-bit",
   "language": "python",
   "name": "python3"
  },
  "language_info": {
   "codemirror_mode": {
    "name": "ipython",
    "version": 3
   },
   "file_extension": ".py",
   "mimetype": "text/x-python",
   "name": "python",
   "nbconvert_exporter": "python",
   "pygments_lexer": "ipython3",
   "version": "3.9.13"
  },
  "orig_nbformat": 4,
  "vscode": {
   "interpreter": {
    "hash": "81794d4967e6c3204c66dcd87b604927b115b27c00565d3d43f05ba2f3a2cb0d"
   }
  }
 },
 "nbformat": 4,
 "nbformat_minor": 2
}
